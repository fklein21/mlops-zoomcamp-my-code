{
 "cells": [
  {
   "cell_type": "code",
   "execution_count": 1,
   "id": "2e25cf66",
   "metadata": {},
   "outputs": [],
   "source": [
    "import pickle\n",
    "\n",
    "import pandas as pd\n",
    "\n",
    "from sklearn.feature_extraction import DictVectorizer\n",
    "from sklearn.ensemble import RandomForestRegressor\n",
    "from sklearn.metrics import mean_squared_error"
   ]
  },
  {
   "cell_type": "code",
   "execution_count": 2,
   "id": "041e9423",
   "metadata": {},
   "outputs": [],
   "source": [
    "from sklearn.pipeline import make_pipeline"
   ]
  },
  {
   "cell_type": "code",
   "execution_count": 3,
   "id": "506bec39",
   "metadata": {},
   "outputs": [
    {
     "data": {
      "text/plain": [
       "<Experiment: artifact_location='s3://mlflow-artifacts-remote-week04/1', experiment_id='1', lifecycle_stage='active', name='green-taxi-duration', tags={}>"
      ]
     },
     "execution_count": 3,
     "metadata": {},
     "output_type": "execute_result"
    }
   ],
   "source": [
    "import mlflow\n",
    "\n",
    "mlflow.set_tracking_uri(\"http://ec2-54-74-30-236.eu-west-1.compute.amazonaws.com:5000\")\n",
    "mlflow.set_experiment(\"green-taxi-duration\")"
   ]
  },
  {
   "cell_type": "code",
   "execution_count": 4,
   "id": "5dde8e0a",
   "metadata": {},
   "outputs": [],
   "source": [
    "import os\n",
    "\n",
    "# os.environ[\"AWS_ACCESS_KEY_ID\"] = \"minio\"\n",
    "# os.environ[\"AWS_SECRET_ACCESS_KEY\"] = \"minio123\"\n",
    "# os.environ[\"MLFLOW_S3_ENDPOINT_URL\"] = f\"http://minio-server:9000\""
   ]
  },
  {
   "cell_type": "code",
   "execution_count": 5,
   "id": "b9666e19",
   "metadata": {},
   "outputs": [],
   "source": [
    "def read_dataframe(filename: str):\n",
    "    df = pd.read_parquet(filename)\n",
    "\n",
    "    df['duration'] = df.lpep_dropoff_datetime - df.lpep_pickup_datetime\n",
    "    df.duration = df.duration.dt.total_seconds() / 60\n",
    "    df = df[(df.duration >= 1) & (df.duration <= 60)]\n",
    "\n",
    "    categorical = ['PULocationID', 'DOLocationID']\n",
    "    df[categorical] = df[categorical].astype(str)\n",
    "    return df\n",
    "\n",
    "\n",
    "def prepare_dictionaries(df: pd.DataFrame):\n",
    "    df['PU_DO'] = df['PULocationID'] + '_' + df['DOLocationID']\n",
    "    categorical = ['PU_DO']\n",
    "    numerical = ['trip_distance']\n",
    "    dicts = df[categorical + numerical].to_dict(orient='records')\n",
    "    return dicts"
   ]
  },
  {
   "cell_type": "code",
   "execution_count": 6,
   "id": "6b5f0d80",
   "metadata": {},
   "outputs": [],
   "source": [
    "data_path = \"../../week1-intro-environment/notebooks/data/\"\n",
    "df_train = read_dataframe(data_path+'green_tripdata_2021-01.parquet')\n",
    "df_val = read_dataframe(data_path+'green_tripdata_2021-02.parquet')\n",
    "\n",
    "target = 'duration'\n",
    "y_train = df_train[target].values\n",
    "y_val = df_val[target].values\n",
    "\n",
    "dict_train = prepare_dictionaries(df_train)\n",
    "dict_val = prepare_dictionaries(df_val)"
   ]
  },
  {
   "cell_type": "code",
   "execution_count": 7,
   "id": "c73081e1",
   "metadata": {},
   "outputs": [
    {
     "name": "stdout",
     "output_type": "stream",
     "text": [
      "{'max_depth': 20, 'n_estimators': 10, 'min_samples_leaf': 10, 'random_state': 0} 6.766727656130231\n"
     ]
    }
   ],
   "source": [
    "with mlflow.start_run():\n",
    "    params = dict(max_depth=20, n_estimators=100, min_samples_leaf=10, random_state=0)\n",
    "    mlflow.log_params(params)\n",
    "\n",
    "    pipeline = make_pipeline(\n",
    "        DictVectorizer(),\n",
    "        RandomForestRegressor(**params, n_jobs=-1)\n",
    "    )\n",
    "\n",
    "    pipeline.fit(dict_train, y_train)\n",
    "    y_pred = pipeline.predict(dict_val)\n",
    "\n",
    "    rmse = mean_squared_error(y_pred, y_val, squared=False)\n",
    "    print(params, rmse)\n",
    "    mlflow.log_metric('rmse', rmse)\n",
    "\n",
    "    mlflow.sklearn.log_model(pipeline, artifact_path=\"model\")"
   ]
  },
  {
   "cell_type": "code",
   "execution_count": 8,
   "id": "c22bbccb",
   "metadata": {},
   "outputs": [],
   "source": [
    "from mlflow.tracking import MlflowClient\n"
   ]
  },
  {
   "cell_type": "code",
   "execution_count": 9,
   "id": "8ff6b57e",
   "metadata": {},
   "outputs": [],
   "source": [
    "MLFLOW_TRACKING_URI = 'http://ec2-54-74-30-236.eu-west-1.compute.amazonaws.com:5000'\n",
    "RUN_ID = 'dc88ab37012042578678bb6ec6e814bb'\n",
    "\n",
    "client = MlflowClient(tracking_uri=MLFLOW_TRACKING_URI)"
   ]
  },
  {
   "cell_type": "code",
   "execution_count": 12,
   "id": "524f7008",
   "metadata": {},
   "outputs": [
    {
     "ename": "TypeError",
     "evalue": "download_artifacts() missing 1 required positional argument: 'path'",
     "output_type": "error",
     "traceback": [
      "\u001b[0;31m---------------------------------------------------------------------------\u001b[0m",
      "\u001b[0;31mTypeError\u001b[0m                                 Traceback (most recent call last)",
      "\u001b[1;32m/home/fklein/mlops-zoomcamp-my-code/week4-deployment/web-service-mlflow/random-forest.ipynb Cell 10'\u001b[0m in \u001b[0;36m<cell line: 1>\u001b[0;34m()\u001b[0m\n\u001b[0;32m----> <a href='vscode-notebook-cell:/home/fklein/mlops-zoomcamp-my-code/week4-deployment/web-service-mlflow/random-forest.ipynb#ch0000008?line=0'>1</a>\u001b[0m path \u001b[39m=\u001b[39m client\u001b[39m.\u001b[39;49mdownload_artifacts(run_id\u001b[39m=\u001b[39;49mRUN_ID)\n",
      "\u001b[0;31mTypeError\u001b[0m: download_artifacts() missing 1 required positional argument: 'path'"
     ]
    }
   ],
   "source": [
    "path = client.download_artifacts(run_id=RUN_ID) #, path='dict_vectorizer.bin')"
   ]
  },
  {
   "cell_type": "code",
   "execution_count": 22,
   "id": "d760f7ed",
   "metadata": {},
   "outputs": [],
   "source": [
    "with open(path, 'rb') as f_out:\n",
    "    dv = pickle.load(f_out)"
   ]
  },
  {
   "cell_type": "code",
   "execution_count": 23,
   "id": "c35deb48",
   "metadata": {},
   "outputs": [
    {
     "data": {
      "text/plain": [
       "DictVectorizer()"
      ]
     },
     "execution_count": 23,
     "metadata": {},
     "output_type": "execute_result"
    }
   ],
   "source": [
    "dv"
   ]
  },
  {
   "cell_type": "code",
   "execution_count": 13,
   "id": "529caf33",
   "metadata": {},
   "outputs": [
    {
     "name": "stdout",
     "output_type": "stream",
     "text": [
      "\u001b[0;31mSignature:\u001b[0m\n",
      " \u001b[0mclient\u001b[0m\u001b[0;34m.\u001b[0m\u001b[0mdownload_artifacts\u001b[0m\u001b[0;34m(\u001b[0m\u001b[0;34m\u001b[0m\n",
      "\u001b[0;34m\u001b[0m    \u001b[0mrun_id\u001b[0m\u001b[0;34m:\u001b[0m \u001b[0mstr\u001b[0m\u001b[0;34m,\u001b[0m\u001b[0;34m\u001b[0m\n",
      "\u001b[0;34m\u001b[0m    \u001b[0mpath\u001b[0m\u001b[0;34m:\u001b[0m \u001b[0mstr\u001b[0m\u001b[0;34m,\u001b[0m\u001b[0;34m\u001b[0m\n",
      "\u001b[0;34m\u001b[0m    \u001b[0mdst_path\u001b[0m\u001b[0;34m:\u001b[0m \u001b[0mOptional\u001b[0m\u001b[0;34m[\u001b[0m\u001b[0mstr\u001b[0m\u001b[0;34m]\u001b[0m \u001b[0;34m=\u001b[0m \u001b[0;32mNone\u001b[0m\u001b[0;34m,\u001b[0m\u001b[0;34m\u001b[0m\n",
      "\u001b[0;34m\u001b[0m\u001b[0;34m)\u001b[0m \u001b[0;34m->\u001b[0m \u001b[0mstr\u001b[0m\u001b[0;34m\u001b[0m\u001b[0;34m\u001b[0m\u001b[0m\n",
      "\u001b[0;31mDocstring:\u001b[0m\n",
      "Download an artifact file or directory from a run to a local directory if applicable,\n",
      "and return a local path for it.\n",
      "\n",
      ":param run_id: The run to download artifacts from.\n",
      ":param path: Relative source path to the desired artifact.\n",
      ":param dst_path: Absolute path of the local filesystem destination directory to which to\n",
      "                 download the specified artifacts. This directory must already exist.\n",
      "                 If unspecified, the artifacts will either be downloaded to a new\n",
      "                 uniquely-named directory on the local filesystem or will be returned\n",
      "                 directly in the case of the LocalArtifactRepository.\n",
      ":return: Local path of desired artifact.\n",
      "\n",
      ".. code-block:: python\n",
      "    :caption: Example\n",
      "\n",
      "    import os\n",
      "    import mlflow\n",
      "    from mlflow.tracking import MlflowClient\n",
      "\n",
      "    features = \"rooms, zipcode, median_price, school_rating, transport\"\n",
      "    with open(\"features.txt\", 'w') as f:\n",
      "        f.write(features)\n",
      "\n",
      "    # Log artifacts\n",
      "    with mlflow.start_run() as run:\n",
      "        mlflow.log_artifact(\"features.txt\", artifact_path=\"features\")\n",
      "\n",
      "    # Download artifacts\n",
      "    client = MlflowClient()\n",
      "    local_dir = \"/tmp/artifact_downloads\"\n",
      "    if not os.path.exists(local_dir):\n",
      "        os.mkdir(local_dir)\n",
      "    local_path = client.download_artifacts(run.info.run_id, \"features\", local_dir)\n",
      "    print(\"Artifacts downloaded in: {}\".format(local_path))\n",
      "    print(\"Artifacts: {}\".format(os.listdir(local_path)))\n",
      "\n",
      ".. code-block:: text\n",
      "    :caption: Output\n",
      "\n",
      "    Artifacts downloaded in: /tmp/artifact_downloads/features\n",
      "    Artifacts: ['features.txt']\n",
      "\u001b[0;31mFile:\u001b[0m      ~/mlops-zoomcamp-my-code/week4-deployment/web-service-mlflow/.venv/lib/python3.9/site-packages/mlflow/tracking/client.py\n",
      "\u001b[0;31mType:\u001b[0m      method\n"
     ]
    }
   ],
   "source": [
    "? client.download_artifacts"
   ]
  },
  {
   "cell_type": "code",
   "execution_count": null,
   "id": "dea78266",
   "metadata": {},
   "outputs": [],
   "source": []
  }
 ],
 "metadata": {
  "kernelspec": {
   "display_name": "Python 3.9.7 ('.venv': pipenv)",
   "language": "python",
   "name": "python3"
  },
  "language_info": {
   "codemirror_mode": {
    "name": "ipython",
    "version": 3
   },
   "file_extension": ".py",
   "mimetype": "text/x-python",
   "name": "python",
   "nbconvert_exporter": "python",
   "pygments_lexer": "ipython3",
   "version": "3.9.7"
  },
  "vscode": {
   "interpreter": {
    "hash": "6f9e08376d98b722858cfd28fbdbb2b815de220760bc5b8459b7c326e7ccafde"
   }
  }
 },
 "nbformat": 4,
 "nbformat_minor": 5
}
